{
 "cells": [
  {
   "cell_type": "markdown",
   "metadata": {},
   "source": [
    "### Άσκηση 1\n",
    "\n",
    "Φτιάξτε μία συνάρτηση σε R η οποία θα παίρνει 2 παράμετρους:\n",
    "* BMI : ένας ακέραιος με το BMI (Body Mass Index) \n",
    "* gender: Ένα αλφαρηθμιτικό το οποίο θα είναι είτε \"male\" είτε \"female\"\n",
    "\n",
    "Αν το gender είναι male, τότε αν το BMI <= 25 θα πρέπει να επιστρέφει \"normal\" αλλιώς θα επιστρέφει \"overweight\"\n",
    "\n",
    "\n",
    "Αν το gender είναι female, τότε αν το BMI <= 24 τότε θα πρέπει να επιστρέφει \"normal\" αλλιώς θα επιστρέφει \"overweight\"\n"
   ]
  },
  {
   "cell_type": "code",
   "execution_count": 5,
   "metadata": {},
   "outputs": [],
   "source": [
    "ask1 <- function(bmi, gender) {\n",
    "    if (gender == \"male\") {\n",
    "       if (bmi <= 25) {\n",
    "           return (\"normal\")\n",
    "       }\n",
    "       return (\"overweight\")\n",
    "    } else if (gender == \"female\") {\n",
    "       if (bmi <= 24) {\n",
    "           return (\"normal\") \n",
    "       }\n",
    "       return (\"overweight\")\n",
    "    }\n",
    "    else {\n",
    "        return (\"error\")\n",
    "    }\n",
    "}\n"
   ]
  },
  {
   "cell_type": "code",
   "execution_count": 6,
   "metadata": {},
   "outputs": [
    {
     "data": {
      "text/html": [
       "'overweight'"
      ],
      "text/latex": [
       "'overweight'"
      ],
      "text/markdown": [
       "'overweight'"
      ],
      "text/plain": [
       "[1] \"overweight\""
      ]
     },
     "metadata": {},
     "output_type": "display_data"
    }
   ],
   "source": [
    "ask1(26, 'male')"
   ]
  },
  {
   "cell_type": "code",
   "execution_count": 9,
   "metadata": {},
   "outputs": [
    {
     "data": {
      "text/html": [
       "'normal'"
      ],
      "text/latex": [
       "'normal'"
      ],
      "text/markdown": [
       "'normal'"
      ],
      "text/plain": [
       "[1] \"normal\""
      ]
     },
     "metadata": {},
     "output_type": "display_data"
    }
   ],
   "source": [
    "ask1(25, 'male')"
   ]
  },
  {
   "cell_type": "code",
   "execution_count": 10,
   "metadata": {},
   "outputs": [
    {
     "data": {
      "text/html": [
       "'overweight'"
      ],
      "text/latex": [
       "'overweight'"
      ],
      "text/markdown": [
       "'overweight'"
      ],
      "text/plain": [
       "[1] \"overweight\""
      ]
     },
     "metadata": {},
     "output_type": "display_data"
    }
   ],
   "source": [
    "ask1(25, 'female')"
   ]
  },
  {
   "cell_type": "code",
   "execution_count": 11,
   "metadata": {},
   "outputs": [
    {
     "data": {
      "text/html": [
       "'normal'"
      ],
      "text/latex": [
       "'normal'"
      ],
      "text/markdown": [
       "'normal'"
      ],
      "text/plain": [
       "[1] \"normal\""
      ]
     },
     "metadata": {},
     "output_type": "display_data"
    }
   ],
   "source": [
    "ask1(24, 'female')"
   ]
  },
  {
   "cell_type": "markdown",
   "metadata": {},
   "source": [
    "### Άσκηση 2\n",
    "\n",
    "Σύμφωνα με αυτό το [site](https://alen.space/basic-guide-nanosatellites/) οι μικροί δορυφόροι μπορούν να κατηγοριοποιηθούν ανάλογα με το βάρος τους σε αυτές τις κατηγορίες:\n",
    "\n",
    "* Minisatellite: 100-500 kg\n",
    "* Microsatellite: 10-100 kg\n",
    "* Nanosatellite: 1-10 kg\n",
    "* Picosatellite: Less than 1 kg\n",
    "\n",
    "Φτιάξτε μία συνάρτηση σε R η οποία θα παίρνει ως παράμετρο το βάρος ενός δορυφόρου και θα επιστρέφει το όνομα της κατηγορίας που ανήκει. Θεωρήστε ότι: \n",
    "* Πάνω από 500 κιλά επιτρέφει \"error\"\n",
    "* 500 κιλά --> Minisatellite\n",
    "* 100 κιλά --> Minisatellite\n",
    "* 10 κιλα --> Microsatellite\n",
    "* 1 κιλό: --> Nanosatellite\n",
    "\n"
   ]
  },
  {
   "cell_type": "code",
   "execution_count": 12,
   "metadata": {},
   "outputs": [],
   "source": [
    "ask2 <- function(kg) {\n",
    "    if (kg>500) {\n",
    "        return (\"error\")\n",
    "    }\n",
    "    if (kg >= 100) {\n",
    "        return (\"Minisatellite\")\n",
    "    }\n",
    "    if (kg >= 10) {\n",
    "        return (\"Microsatellite\")\n",
    "    }\n",
    "    return (\"Nanosatellite\")\n",
    "}"
   ]
  },
  {
   "cell_type": "code",
   "execution_count": 14,
   "metadata": {},
   "outputs": [
    {
     "data": {
      "text/html": [
       "'error'"
      ],
      "text/latex": [
       "'error'"
      ],
      "text/markdown": [
       "'error'"
      ],
      "text/plain": [
       "[1] \"error\""
      ]
     },
     "metadata": {},
     "output_type": "display_data"
    }
   ],
   "source": [
    "ask2(500.0001)"
   ]
  },
  {
   "cell_type": "code",
   "execution_count": 15,
   "metadata": {},
   "outputs": [
    {
     "data": {
      "text/html": [
       "'Minisatellite'"
      ],
      "text/latex": [
       "'Minisatellite'"
      ],
      "text/markdown": [
       "'Minisatellite'"
      ],
      "text/plain": [
       "[1] \"Minisatellite\""
      ]
     },
     "metadata": {},
     "output_type": "display_data"
    }
   ],
   "source": [
    "ask2(500)"
   ]
  },
  {
   "cell_type": "code",
   "execution_count": 16,
   "metadata": {},
   "outputs": [
    {
     "data": {
      "text/html": [
       "'Minisatellite'"
      ],
      "text/latex": [
       "'Minisatellite'"
      ],
      "text/markdown": [
       "'Minisatellite'"
      ],
      "text/plain": [
       "[1] \"Minisatellite\""
      ]
     },
     "metadata": {},
     "output_type": "display_data"
    }
   ],
   "source": [
    "ask2(100)"
   ]
  },
  {
   "cell_type": "code",
   "execution_count": 17,
   "metadata": {},
   "outputs": [
    {
     "data": {
      "text/html": [
       "'Microsatellite'"
      ],
      "text/latex": [
       "'Microsatellite'"
      ],
      "text/markdown": [
       "'Microsatellite'"
      ],
      "text/plain": [
       "[1] \"Microsatellite\""
      ]
     },
     "metadata": {},
     "output_type": "display_data"
    }
   ],
   "source": [
    "ask2(10)"
   ]
  },
  {
   "cell_type": "code",
   "execution_count": 18,
   "metadata": {},
   "outputs": [
    {
     "data": {
      "text/html": [
       "'Nanosatellite'"
      ],
      "text/latex": [
       "'Nanosatellite'"
      ],
      "text/markdown": [
       "'Nanosatellite'"
      ],
      "text/plain": [
       "[1] \"Nanosatellite\""
      ]
     },
     "metadata": {},
     "output_type": "display_data"
    }
   ],
   "source": [
    "ask2(9.999)"
   ]
  },
  {
   "cell_type": "markdown",
   "metadata": {},
   "source": [
    "### Άσκηση 3\n",
    "\n",
    "Δίνεται αυτή η συνάρτηση η οποία επιστρέφει ```TRUE/FALSE``` ανάλογα με το αν ένας αριθμός είναι πρώτος ή όχι:"
   ]
  },
  {
   "cell_type": "code",
   "execution_count": 19,
   "metadata": {},
   "outputs": [],
   "source": [
    "prime <- function(n) {\n",
    "    for (i in 2:(n-1)) {\n",
    "        if (n%%i == 0) {\n",
    "            return (FALSE)\n",
    "        }\n",
    "    }\n",
    "    \n",
    "    return (TRUE)\n",
    "\n",
    "}\n"
   ]
  },
  {
   "cell_type": "markdown",
   "metadata": {},
   "source": [
    "Ποιος είναι ο μεγαλύτερος πρώτος αριθμός που είναι μικρότερος του 1000;\n",
    "\n",
    "1ος τρόπος:"
   ]
  },
  {
   "cell_type": "code",
   "execution_count": 20,
   "metadata": {},
   "outputs": [
    {
     "name": "stdout",
     "output_type": "stream",
     "text": [
      "[1] 997\n"
     ]
    }
   ],
   "source": [
    "\n",
    "n <- 999\n",
    "while (!prime(n)) {\n",
    "    n <- n - 1\n",
    "}\n",
    "print (n)\n"
   ]
  },
  {
   "cell_type": "markdown",
   "metadata": {},
   "source": [
    "2ος τρόπος (αργός!)"
   ]
  },
  {
   "cell_type": "code",
   "execution_count": 21,
   "metadata": {},
   "outputs": [
    {
     "name": "stdout",
     "output_type": "stream",
     "text": [
      "[1] 997\n"
     ]
    }
   ],
   "source": [
    "\n",
    "for (n in 1:999) {\n",
    "   if (prime(n)) {\n",
    "      d <- n\n",
    "   }\n",
    "}\n",
    "print (d)\n"
   ]
  },
  {
   "cell_type": "markdown",
   "metadata": {},
   "source": [
    "### Άσκηση 4"
   ]
  },
  {
   "cell_type": "markdown",
   "metadata": {},
   "source": [
    "Ρίχνω μία μπάλα από ύψος 1m. Κάθε φορά που αναπηδάει στο έδαφος χάνει το 10% του ύψους της. Μετά από πόσες αναπηδήσεις το ύψος που θα φτάσει θα είναι κάτω από 0.5m;"
   ]
  },
  {
   "cell_type": "code",
   "execution_count": 22,
   "metadata": {},
   "outputs": [
    {
     "name": "stdout",
     "output_type": "stream",
     "text": [
      "[1] 7\n"
     ]
    }
   ],
   "source": [
    "h <- 1\n",
    "c <- 0\n",
    "while (h>=0.5) {\n",
    "    h <- h - (0.1*h)\n",
    "    c <- c + 1\n",
    "}\n",
    "print (c)"
   ]
  },
  {
   "cell_type": "markdown",
   "metadata": {},
   "source": [
    "### Άσκηση 5\n",
    "Φτιάξτε τον παρακάτω πίνακα:\n",
    "\n",
    "```\n",
    "1 1 1 1 1\n",
    "2 2 2 2 2\n",
    "3 3 3 3 3\n",
    "4 4 4 4 4\n",
    "5 5 5 5 5\n",
    "```\n",
    "\n",
    "\n"
   ]
  },
  {
   "cell_type": "code",
   "execution_count": 23,
   "metadata": {},
   "outputs": [
    {
     "data": {
      "text/html": [
       "<table>\n",
       "<caption>A matrix: 5 × 5 of type int</caption>\n",
       "<tbody>\n",
       "\t<tr><td>1</td><td>1</td><td>1</td><td>1</td><td>1</td></tr>\n",
       "\t<tr><td>2</td><td>2</td><td>2</td><td>2</td><td>2</td></tr>\n",
       "\t<tr><td>3</td><td>3</td><td>3</td><td>3</td><td>3</td></tr>\n",
       "\t<tr><td>4</td><td>4</td><td>4</td><td>4</td><td>4</td></tr>\n",
       "\t<tr><td>5</td><td>5</td><td>5</td><td>5</td><td>5</td></tr>\n",
       "</tbody>\n",
       "</table>\n"
      ],
      "text/latex": [
       "A matrix: 5 × 5 of type int\n",
       "\\begin{tabular}{lllll}\n",
       "\t 1 & 1 & 1 & 1 & 1\\\\\n",
       "\t 2 & 2 & 2 & 2 & 2\\\\\n",
       "\t 3 & 3 & 3 & 3 & 3\\\\\n",
       "\t 4 & 4 & 4 & 4 & 4\\\\\n",
       "\t 5 & 5 & 5 & 5 & 5\\\\\n",
       "\\end{tabular}\n"
      ],
      "text/markdown": [
       "\n",
       "A matrix: 5 × 5 of type int\n",
       "\n",
       "| 1 | 1 | 1 | 1 | 1 |\n",
       "| 2 | 2 | 2 | 2 | 2 |\n",
       "| 3 | 3 | 3 | 3 | 3 |\n",
       "| 4 | 4 | 4 | 4 | 4 |\n",
       "| 5 | 5 | 5 | 5 | 5 |\n",
       "\n"
      ],
      "text/plain": [
       "     [,1] [,2] [,3] [,4] [,5]\n",
       "[1,] 1    1    1    1    1   \n",
       "[2,] 2    2    2    2    2   \n",
       "[3,] 3    3    3    3    3   \n",
       "[4,] 4    4    4    4    4   \n",
       "[5,] 5    5    5    5    5   "
      ]
     },
     "metadata": {},
     "output_type": "display_data"
    }
   ],
   "source": [
    "matrix(1:5, nrow=5, ncol=5)"
   ]
  },
  {
   "cell_type": "markdown",
   "metadata": {},
   "source": [
    "### Άσκηση 6\n",
    "Φτιάξτε τον παρακάτω πίνακα:\n",
    "\n",
    "```\n",
    "1 2 3 4 5\n",
    "1 2 3 4 5\n",
    "1 2 3 4 5\n",
    "1 2 3 4 5\n",
    "1 2 3 4 5\n",
    "```\n"
   ]
  },
  {
   "cell_type": "code",
   "execution_count": 25,
   "metadata": {},
   "outputs": [
    {
     "data": {
      "text/html": [
       "<table>\n",
       "<caption>A matrix: 5 × 5 of type int</caption>\n",
       "<tbody>\n",
       "\t<tr><td>1</td><td>2</td><td>3</td><td>4</td><td>5</td></tr>\n",
       "\t<tr><td>1</td><td>2</td><td>3</td><td>4</td><td>5</td></tr>\n",
       "\t<tr><td>1</td><td>2</td><td>3</td><td>4</td><td>5</td></tr>\n",
       "\t<tr><td>1</td><td>2</td><td>3</td><td>4</td><td>5</td></tr>\n",
       "\t<tr><td>1</td><td>2</td><td>3</td><td>4</td><td>5</td></tr>\n",
       "</tbody>\n",
       "</table>\n"
      ],
      "text/latex": [
       "A matrix: 5 × 5 of type int\n",
       "\\begin{tabular}{lllll}\n",
       "\t 1 & 2 & 3 & 4 & 5\\\\\n",
       "\t 1 & 2 & 3 & 4 & 5\\\\\n",
       "\t 1 & 2 & 3 & 4 & 5\\\\\n",
       "\t 1 & 2 & 3 & 4 & 5\\\\\n",
       "\t 1 & 2 & 3 & 4 & 5\\\\\n",
       "\\end{tabular}\n"
      ],
      "text/markdown": [
       "\n",
       "A matrix: 5 × 5 of type int\n",
       "\n",
       "| 1 | 2 | 3 | 4 | 5 |\n",
       "| 1 | 2 | 3 | 4 | 5 |\n",
       "| 1 | 2 | 3 | 4 | 5 |\n",
       "| 1 | 2 | 3 | 4 | 5 |\n",
       "| 1 | 2 | 3 | 4 | 5 |\n",
       "\n"
      ],
      "text/plain": [
       "     [,1] [,2] [,3] [,4] [,5]\n",
       "[1,] 1    2    3    4    5   \n",
       "[2,] 1    2    3    4    5   \n",
       "[3,] 1    2    3    4    5   \n",
       "[4,] 1    2    3    4    5   \n",
       "[5,] 1    2    3    4    5   "
      ]
     },
     "metadata": {},
     "output_type": "display_data"
    }
   ],
   "source": [
    "matrix(1:5, nrow=5, ncol=5, byrow=TRUE)"
   ]
  },
  {
   "cell_type": "markdown",
   "metadata": {},
   "source": [
    "### Άσκηση 7\n",
    "Φτιάξτε τον παρακάτω πίνακα:\n",
    "\n",
    "```\n",
    "0\t0\t0\t0\t0\t0\t0\t0\t0\t1\n",
    "0\t0\t0\t0\t0\t0\t0\t0\t1\t0\n",
    "0\t0\t0\t0\t0\t0\t0\t1\t0\t0\n",
    "0\t0\t0\t0\t0\t0\t1\t0\t0\t0\n",
    "0\t0\t0\t0\t0\t1\t0\t0\t0\t0\n",
    "0\t0\t0\t0\t1\t0\t0\t0\t0\t0\n",
    "0\t0\t0\t1\t0\t0\t0\t0\t0\t0\n",
    "0\t0\t1\t0\t0\t0\t0\t0\t0\t0\n",
    "0\t1\t0\t0\t0\t0\t0\t0\t0\t0\n",
    "1\t0\t0\t0\t0\t0\t0\t0\t0\t0\n",
    "\n",
    "```\n",
    "\n",
    "1ος τρόπος:"
   ]
  },
  {
   "cell_type": "code",
   "execution_count": 39,
   "metadata": {},
   "outputs": [
    {
     "name": "stdout",
     "output_type": "stream",
     "text": [
      "      [,1] [,2] [,3] [,4] [,5] [,6] [,7] [,8] [,9] [,10]\n",
      " [1,]    0    0    0    0    0    0    0    0    0     1\n",
      " [2,]    0    0    0    0    0    0    0    0    1     0\n",
      " [3,]    0    0    0    0    0    0    0    1    0     0\n",
      " [4,]    0    0    0    0    0    0    1    0    0     0\n",
      " [5,]    0    0    0    0    0    1    0    0    0     0\n",
      " [6,]    0    0    0    0    1    0    0    0    0     0\n",
      " [7,]    0    0    0    1    0    0    0    0    0     0\n",
      " [8,]    0    0    1    0    0    0    0    0    0     0\n",
      " [9,]    0    1    0    0    0    0    0    0    0     0\n",
      "[10,]    1    0    0    0    0    0    0    0    0     0\n"
     ]
    }
   ],
   "source": [
    "m <- matrix(0, ncol=10, nrow=10)\n",
    "\n",
    "for (i in 1:10) {\n",
    "    m[i,11-i] <- 1\n",
    "}\n",
    "print (m)"
   ]
  },
  {
   "cell_type": "markdown",
   "metadata": {},
   "source": [
    "2ος τρόπος:"
   ]
  },
  {
   "cell_type": "code",
   "execution_count": 41,
   "metadata": {},
   "outputs": [
    {
     "name": "stdout",
     "output_type": "stream",
     "text": [
      "      [,1] [,2] [,3] [,4] [,5] [,6] [,7] [,8] [,9] [,10]\n",
      " [1,]    0    0    0    0    0    0    0    0    0     1\n",
      " [2,]    0    0    0    0    0    0    0    0    1     0\n",
      " [3,]    0    0    0    0    0    0    0    1    0     0\n",
      " [4,]    0    0    0    0    0    0    1    0    0     0\n",
      " [5,]    0    0    0    0    0    1    0    0    0     0\n",
      " [6,]    0    0    0    0    1    0    0    0    0     0\n",
      " [7,]    0    0    0    1    0    0    0    0    0     0\n",
      " [8,]    0    0    1    0    0    0    0    0    0     0\n",
      " [9,]    0    1    0    0    0    0    0    0    0     0\n",
      "[10,]    1    0    0    0    0    0    0    0    0     0\n"
     ]
    }
   ],
   "source": [
    "m <- matrix(0, ncol=10, nrow=10)\n",
    "s <- 10\n",
    "for (i in 1:10) {\n",
    "    m[s] <- 1\n",
    "    s <- s + 9\n",
    "}\n",
    "print (m)\n"
   ]
  },
  {
   "cell_type": "markdown",
   "metadata": {},
   "source": [
    "### Άσκηση 8\n",
    "\n",
    "Φτιάξτε μία λίστα που να περιέχει το όνομα (αλφαριθμητικό), το επίθετο (αλφαριθμητικό) ενός μαθητή, τους βαθμούς του (ένα διάνυσμα από 5 τυχαίες αριθμητικές τιμές).\n",
    "\n",
    "\n",
    "\n"
   ]
  },
  {
   "cell_type": "code",
   "execution_count": 43,
   "metadata": {},
   "outputs": [
    {
     "name": "stdout",
     "output_type": "stream",
     "text": [
      "$name\n",
      "[1] \"mitsos\"\n",
      "\n",
      "$surname\n",
      "[1] \"katsouranis\"\n",
      "\n",
      "$grades\n",
      "[1] 5 7 4 3 2\n",
      "\n"
     ]
    }
   ],
   "source": [
    "l <- list(\n",
    "    name=\"mitsos\",\n",
    "    surname=\"katsouranis\",\n",
    "    grades=c(5,7,4,3,2)\n",
    ")\n",
    "print (l)"
   ]
  },
  {
   "cell_type": "markdown",
   "metadata": {},
   "source": [
    "Αντικαταστήστε το πεδίο \"grades\" της προηγούμενης λίστας με ένα πίνακα 3 γραμμές Χ 5 στήλες με τυχαίες τιμές από το 1 μέχρι τι 20."
   ]
  },
  {
   "cell_type": "code",
   "execution_count": 45,
   "metadata": {},
   "outputs": [],
   "source": [
    "l$grades <- matrix(runif(15, 1, 20), nrow=3, ncol=5)"
   ]
  },
  {
   "cell_type": "code",
   "execution_count": 46,
   "metadata": {},
   "outputs": [
    {
     "name": "stdout",
     "output_type": "stream",
     "text": [
      "$name\n",
      "[1] \"mitsos\"\n",
      "\n",
      "$surname\n",
      "[1] \"katsouranis\"\n",
      "\n",
      "$grades\n",
      "          [,1]      [,2]     [,3]      [,4]     [,5]\n",
      "[1,] 11.096912 16.880288 19.84811 11.703675 14.46216\n",
      "[2,] 14.136438  6.839001 16.66767  6.278271 16.63007\n",
      "[3,]  9.824791  6.306368 12.17413  9.439518 19.38922\n",
      "\n"
     ]
    }
   ],
   "source": [
    "print(l)"
   ]
  }
 ],
 "metadata": {
  "kernelspec": {
   "display_name": "R",
   "language": "R",
   "name": "ir"
  },
  "language_info": {
   "codemirror_mode": "r",
   "file_extension": ".r",
   "mimetype": "text/x-r-source",
   "name": "R",
   "pygments_lexer": "r",
   "version": "4.0.3"
  }
 },
 "nbformat": 4,
 "nbformat_minor": 2
}
